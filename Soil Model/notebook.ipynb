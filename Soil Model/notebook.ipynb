{
 "cells": [
  {
   "cell_type": "markdown",
   "id": "d3d001b0-2e2f-4b58-8442-99520bad831f",
   "metadata": {},
   "source": [
    "# Sowing Success: How Machine Learning Helps Farmers Select the Best Crops\n",
    "\n",
    "![Farmer in a field](farmer_in_a_field.jpg)\n",
    "\n",
    "Measuring essential soil metrics such as nitrogen, phosphorous, potassium levels, and pH value is an important aspect of assessing soil condition. However, it can be an expensive and time-consuming process, which can cause farmers to prioritize which metrics to measure based on their budget constraints.\n",
    "\n",
    "Farmers have various options when it comes to deciding which crop to plant each season. Their primary objective is to maximize the yield of their crops, taking into account different factors. One crucial factor that affects crop growth is the condition of the soil in the field, which can be assessed by measuring basic elements such as nitrogen and potassium levels. Each crop has an ideal soil condition that ensures optimal growth and maximum yield.\n",
    "\n",
    "A farmer reached out to you as a machine learning expert for assistance in selecting the best crop for his field. They've provided you with a dataset called `soil_measures.csv`, which contains:\n",
    "\n",
    "- `\"N\"`: Nitrogen content ratio in the soil\n",
    "- `\"P\"`: Phosphorous content ratio in the soil\n",
    "- `\"K\"`: Potassium content ratio in the soil\n",
    "- `\"pH\"` value of the soil\n",
    "- `\"crop\"`: categorical values that contain various crops (target variable).\n",
    "\n",
    "Each row in this dataset represents various measures of the soil in a particular field. Based on these measurements, the crop specified in the `\"crop\"` column is the optimal choice for that field.  \n",
    "\n",
    "In this project, you will build multi-class classification models to predict the type of `\"crop\"` and identify the single most importance feature for predictive performance."
   ]
  },
  {
   "cell_type": "code",
   "execution_count": 21,
   "id": "d0eb4f16-5a99-460d-a5ba-706b7ef0bbe7",
   "metadata": {
    "executionCancelledAt": null,
    "executionTime": 24,
    "id": "bA5ajAmk7XH6",
    "lastExecutedAt": 1749483721670,
    "lastExecutedByKernel": "ceed16c9-f81f-4fdb-9897-e3d83398935d",
    "lastScheduledRunId": null,
    "lastSuccessfullyExecutedCode": "# All required libraries are imported here for you.\nimport pandas as pd\nimport numpy as np\nimport matplotlib.pyplot as plt\nimport seaborn as sns\nfrom sklearn.ensemble import RandomForestClassifier\nfrom sklearn.linear_model import LogisticRegression\nfrom sklearn.model_selection import train_test_split\nfrom sklearn import metrics\nfrom sklearn.preprocessing import LabelEncoder\n\n# Load the dataset\ncrops = pd.read_csv(\"soil_measures.csv\")\n\n#Visualizing the first few rows of the dataset\nprint(crops.head())\n\n#Checking if any column has null values\nprint(crops.isna().sum())",
    "outputsMetadata": {
     "0": {
      "height": 269,
      "type": "stream"
     }
    }
   },
   "outputs": [
    {
     "name": "stdout",
     "output_type": "stream",
     "text": [
      "    N   P   K        ph  crop\n",
      "0  90  42  43  6.502985  rice\n",
      "1  85  58  41  7.038096  rice\n",
      "2  60  55  44  7.840207  rice\n",
      "3  74  35  40  6.980401  rice\n",
      "4  78  42  42  7.628473  rice\n",
      "N       0\n",
      "P       0\n",
      "K       0\n",
      "ph      0\n",
      "crop    0\n",
      "dtype: int64\n"
     ]
    }
   ],
   "source": [
    "# All required libraries are imported here for you.\n",
    "import pandas as pd\n",
    "import numpy as np\n",
    "import matplotlib.pyplot as plt\n",
    "import seaborn as sns\n",
    "from sklearn.linear_model import LogisticRegression\n",
    "from sklearn.model_selection import train_test_split\n",
    "from sklearn.metrics import accuracy_score\n",
    "from sklearn.preprocessing import LabelEncoder, StandardScaler\n",
    "\n",
    "# Load the dataset\n",
    "crops = pd.read_csv(\"soil_measures.csv\")\n",
    "\n",
    "#Visualizing the first few rows of the dataset\n",
    "print(crops.head())\n",
    "\n",
    "#Checking if any column has null values\n",
    "print(crops.isna().sum())"
   ]
  },
  {
   "cell_type": "code",
   "execution_count": 22,
   "id": "b94cf12d-ffe3-460b-bd31-f456882ced58",
   "metadata": {
    "executionCancelledAt": null,
    "executionTime": 54,
    "lastExecutedAt": 1749483721724,
    "lastExecutedByKernel": "ceed16c9-f81f-4fdb-9897-e3d83398935d",
    "lastScheduledRunId": null,
    "lastSuccessfullyExecutedCode": "#Loading and Exploring data.\n#Checking data structure of the dataframe\nprint(crops.head())\n#Checking for data type and non-null counts\nprint(crops.info())\n#Descriptive stats of the dataframe\nprint(crops.describe())\n#Checking for missing values.\nprint(crops.isna().sum())",
    "outputsMetadata": {
     "0": {
      "height": 616,
      "type": "stream"
     }
    }
   },
   "outputs": [
    {
     "name": "stdout",
     "output_type": "stream",
     "text": [
      "    N   P   K        ph  crop\n",
      "0  90  42  43  6.502985  rice\n",
      "1  85  58  41  7.038096  rice\n",
      "2  60  55  44  7.840207  rice\n",
      "3  74  35  40  6.980401  rice\n",
      "4  78  42  42  7.628473  rice\n",
      "<class 'pandas.core.frame.DataFrame'>\n",
      "RangeIndex: 2200 entries, 0 to 2199\n",
      "Data columns (total 5 columns):\n",
      " #   Column  Non-Null Count  Dtype  \n",
      "---  ------  --------------  -----  \n",
      " 0   N       2200 non-null   int64  \n",
      " 1   P       2200 non-null   int64  \n",
      " 2   K       2200 non-null   int64  \n",
      " 3   ph      2200 non-null   float64\n",
      " 4   crop    2200 non-null   object \n",
      "dtypes: float64(1), int64(3), object(1)\n",
      "memory usage: 86.1+ KB\n",
      "None\n",
      "                 N            P            K           ph\n",
      "count  2200.000000  2200.000000  2200.000000  2200.000000\n",
      "mean     50.551818    53.362727    48.149091     6.469480\n",
      "std      36.917334    32.985883    50.647931     0.773938\n",
      "min       0.000000     5.000000     5.000000     3.504752\n",
      "25%      21.000000    28.000000    20.000000     5.971693\n",
      "50%      37.000000    51.000000    32.000000     6.425045\n",
      "75%      84.250000    68.000000    49.000000     6.923643\n",
      "max     140.000000   145.000000   205.000000     9.935091\n",
      "N       0\n",
      "P       0\n",
      "K       0\n",
      "ph      0\n",
      "crop    0\n",
      "dtype: int64\n"
     ]
    }
   ],
   "source": [
    "#Loading and Exploring data.\n",
    "#Checking data structure of the dataframe\n",
    "print(crops.head())\n",
    "#Checking for data type and non-null counts\n",
    "print(crops.info())\n",
    "#Descriptive stats of the dataframe\n",
    "print(crops.describe())\n",
    "#Checking for missing values.\n",
    "print(crops.isna().sum())"
   ]
  },
  {
   "cell_type": "code",
   "execution_count": 23,
   "id": "f306dfda-e22a-4e88-9d05-385611cf3e69",
   "metadata": {
    "executionCancelledAt": null,
    "executionTime": 56,
    "lastExecutedAt": 1749483721780,
    "lastExecutedByKernel": "ceed16c9-f81f-4fdb-9897-e3d83398935d",
    "lastScheduledRunId": null,
    "lastSuccessfullyExecutedCode": "#Encoding the crop column as categorical label\nprint(\"Original 'crop' column:\")\nprint(crops['crop'].value_counts())\n\n#Initializing label encoder\nle = LabelEncoder()\ncrops['crop_encoded'] = le.fit_transform(crops['crop'])\nprint(\"\\nDataFrame with encoded 'crop' column:\")\nprint(crops[['crop', 'crop_encoded']])\n\nprint(\"\\nMapping of original crop names to encoded labels:\")\n# You can get the mapping like this:\ncrop_mapping = dict(zip(le.classes_, le.transform(le.classes_)))\nprint(crop_mapping)\nprint(crops.columns)",
    "outputsMetadata": {
     "0": {
      "height": 616,
      "type": "stream"
     }
    }
   },
   "outputs": [
    {
     "name": "stdout",
     "output_type": "stream",
     "text": [
      "Original 'crop' column:\n",
      "crop\n",
      "rice           100\n",
      "maize          100\n",
      "jute           100\n",
      "cotton         100\n",
      "coconut        100\n",
      "papaya         100\n",
      "orange         100\n",
      "apple          100\n",
      "muskmelon      100\n",
      "watermelon     100\n",
      "grapes         100\n",
      "mango          100\n",
      "banana         100\n",
      "pomegranate    100\n",
      "lentil         100\n",
      "blackgram      100\n",
      "mungbean       100\n",
      "mothbeans      100\n",
      "pigeonpeas     100\n",
      "kidneybeans    100\n",
      "chickpea       100\n",
      "coffee         100\n",
      "Name: count, dtype: int64\n",
      "\n",
      "DataFrame with encoded 'crop' column:\n",
      "        crop  crop_encoded\n",
      "0       rice            20\n",
      "1       rice            20\n",
      "2       rice            20\n",
      "3       rice            20\n",
      "4       rice            20\n",
      "...      ...           ...\n",
      "2195  coffee             5\n",
      "2196  coffee             5\n",
      "2197  coffee             5\n",
      "2198  coffee             5\n",
      "2199  coffee             5\n",
      "\n",
      "[2200 rows x 2 columns]\n",
      "\n",
      "Mapping of original crop names to encoded labels:\n",
      "{'apple': np.int64(0), 'banana': np.int64(1), 'blackgram': np.int64(2), 'chickpea': np.int64(3), 'coconut': np.int64(4), 'coffee': np.int64(5), 'cotton': np.int64(6), 'grapes': np.int64(7), 'jute': np.int64(8), 'kidneybeans': np.int64(9), 'lentil': np.int64(10), 'maize': np.int64(11), 'mango': np.int64(12), 'mothbeans': np.int64(13), 'mungbean': np.int64(14), 'muskmelon': np.int64(15), 'orange': np.int64(16), 'papaya': np.int64(17), 'pigeonpeas': np.int64(18), 'pomegranate': np.int64(19), 'rice': np.int64(20), 'watermelon': np.int64(21)}\n",
      "Index(['N', 'P', 'K', 'ph', 'crop', 'crop_encoded'], dtype='object')\n"
     ]
    }
   ],
   "source": [
    "#Encoding the crop column as categorical label\n",
    "print(\"Original 'crop' column:\")\n",
    "print(crops['crop'].value_counts())\n",
    "\n",
    "#Initializing label encoder\n",
    "le = LabelEncoder()\n",
    "crops['crop_encoded'] = le.fit_transform(crops['crop'])\n",
    "print(\"\\nDataFrame with encoded 'crop' column:\")\n",
    "print(crops[['crop', 'crop_encoded']])\n",
    "\n",
    "print(\"\\nMapping of original crop names to encoded labels:\")\n",
    "# You can get the mapping like this:\n",
    "crop_mapping = dict(zip(le.classes_, le.transform(le.classes_)))\n",
    "print(crop_mapping)\n",
    "print(crops.columns)"
   ]
  },
  {
   "cell_type": "code",
   "execution_count": 29,
   "id": "1edd72ec-a956-4f72-8166-8a1ed165acb1",
   "metadata": {
    "executionCancelledAt": null,
    "executionTime": 50,
    "lastExecutedAt": 1749483721831,
    "lastExecutedByKernel": "ceed16c9-f81f-4fdb-9897-e3d83398935d",
    "lastScheduledRunId": null,
    "lastSuccessfullyExecutedCode": "#Splitting the data\nX = crops[['N','P','K','ph']] #Features\ny = crops['crop_encoded'] #Target variable\n\n# Split data into training and testing sets\nX_train, X_test, y_train, y_test = train_test_split(X, y, test_size=0.2, random_state = 24)\n\n",
    "outputsMetadata": {
     "0": {
      "height": 38,
      "type": "stream"
     }
    }
   },
   "outputs": [],
   "source": [
    "#Splitting the data\n",
    "X = crops[['N','P','K','ph']] #Features\n",
    "y = crops['crop_encoded'] #Target variable\n",
    "\n",
    "# Split data into training and testing sets\n",
    "X_train, X_test, y_train, y_test = train_test_split(X, y, test_size=0.25, random_state = 24)\n",
    "\n",
    "#Initializing the scaler\n",
    "scaler = StandardScaler()\n",
    "\n",
    "#Fit the scaler on X_train and transform X_train\n",
    "X_train_scaled = scaler.fit_transform(X_train)\n",
    "\n",
    "#Convert scaled arrays back to DataFrame for easy column selection by name\n",
    "X_train_scaled = pd.DataFrame(X_train_scaled, columns=X_train.columns, index=X_train.index)\n",
    "\n",
    "#Transfrom x_test using the same fitted scaler\n",
    "X_test_scaled = scaler.transform(X_test)\n",
    "\n",
    "#Convert scaled arrays back to DataFrame for easy column selection by name\n",
    "X_test_scaled = pd.DataFrame(X_test_scaled, columns=X_test.columns, index=X_test.index)"
   ]
  },
  {
   "cell_type": "code",
   "execution_count": 30,
   "id": "81969380-a093-4cd7-92b6-7235ac7ec8a1",
   "metadata": {
    "executionCancelledAt": null,
    "executionTime": 4353,
    "lastExecutedAt": 1749483726185,
    "lastExecutedByKernel": "ceed16c9-f81f-4fdb-9897-e3d83398935d",
    "lastScheduledRunId": null,
    "lastSuccessfullyExecutedCode": "#Creating an empty dictionary to store each feature and its performance\nfeatures_dict = {}\n#Looping through each feature\nfeature_list = ['N','P','K','ph']\nfor feature in feature_list:\n    #Instantiating model with multinomial argument for multi-class prediction\n    log_reg = LogisticRegression(multi_class='multinomial')\n    #Fitting model to the training data\n    log_reg.fit(X_train[[feature]], y_train)\n    #Predicting the target values with the test data\n    y_pred =log_reg.predict(X_test[[feature]])\n    #Using the f1_score as the performance metric, with the average argument set to weighted\n    feature_performance = metrics.f1_score(y_test, y_pred, average='weighted')\n    features_dict[feature] = feature_performance\n    \nprint(features_dict)",
    "outputsMetadata": {
     "0": {
      "height": 38,
      "type": "stream"
     }
    }
   },
   "outputs": [
    {
     "name": "stdout",
     "output_type": "stream",
     "text": [
      "{'N': 0.12363636363636364, 'P': 0.16545454545454547, 'K': 0.23272727272727273, 'ph': 0.0890909090909091}\n"
     ]
    }
   ],
   "source": [
    "#Creating an empty dictionary to store each feature and its performance\n",
    "features_dict = {}\n",
    "#Looping through each feature\n",
    "feature_list = ['N','P','K','ph']\n",
    "for feature in feature_list:\n",
    "    #Selecting current feature from scaled training data\n",
    "    X_train_single_feature = X_train_scaled[[feature]].values\n",
    "    #Selecting current feature from scaled test data\n",
    "    X_test_single_feature = X_test_scaled[[feature]].values\n",
    "    #Instantiating model \n",
    "    log_reg = LogisticRegression()\n",
    "    #Fitting model to the training data\n",
    "    log_reg.fit(X_train_single_feature, y_train)\n",
    "    #Predicting the target values with the test data\n",
    "    y_pred =log_reg.predict(X_test_single_feature)\n",
    "    #Using the f1_score as the performance metric, with the average argument set to weighted\n",
    "    feature_performance = accuracy_score(y_test, y_pred)\n",
    "    features_dict[feature] = feature_performance\n",
    "    \n",
    "print(features_dict)"
   ]
  },
  {
   "cell_type": "code",
   "execution_count": 31,
   "id": "772a8384-470a-4260-bb4a-33cf50bb6442",
   "metadata": {
    "executionCancelledAt": null,
    "executionTime": 138,
    "lastExecutedAt": 1749483726323,
    "lastExecutedByKernel": "ceed16c9-f81f-4fdb-9897-e3d83398935d",
    "lastScheduledRunId": null,
    "lastSuccessfullyExecutedCode": "#Validating result\n#Converting the features_dict into a dataframe and sorting the values based on the score in descending order.\nresult_df = pd.DataFrame(features_dict.items(), columns = ['Feature', 'Score']).sort_values('Score', ascending=False)\nprint(result_df)\n#Subsetting and selecting the first row \nbest_predictive_feature = {}\nbest_predictive_feature[result_df['Feature'].iloc[0]] = result_df['Score'].iloc[0]\nprint(best_predictive_feature)",
    "outputsMetadata": {
     "0": {
      "height": 143,
      "type": "stream"
     }
    }
   },
   "outputs": [
    {
     "name": "stdout",
     "output_type": "stream",
     "text": [
      "  Feature     Score\n",
      "2       K  0.232727\n",
      "1       P  0.165455\n",
      "0       N  0.123636\n",
      "3      ph  0.089091\n",
      "{'K': np.float64(0.23272727272727273)}\n"
     ]
    }
   ],
   "source": [
    "#Validating result\n",
    "#Converting the features_dict into a dataframe and sorting the values based on the score in descending order.\n",
    "result_df = pd.DataFrame(features_dict.items(), columns = ['Feature', 'Score']).sort_values('Score', ascending=False)\n",
    "print(result_df)\n",
    "#Subsetting and selecting the first row \n",
    "best_predictive_feature = {}\n",
    "best_predictive_feature[result_df['Feature'].iloc[0]] = result_df['Score'].iloc[0]\n",
    "print(best_predictive_feature)"
   ]
  }
 ],
 "metadata": {
  "colab": {
   "name": "Welcome to DataCamp Workspaces.ipynb",
   "provenance": []
  },
  "kernelspec": {
   "display_name": "Python 3",
   "language": "python",
   "name": "python3"
  },
  "language_info": {
   "codemirror_mode": {
    "name": "ipython",
    "version": 3
   },
   "file_extension": ".py",
   "mimetype": "text/x-python",
   "name": "python",
   "nbconvert_exporter": "python",
   "pygments_lexer": "ipython3",
   "version": "3.13.2"
  }
 },
 "nbformat": 4,
 "nbformat_minor": 5
}
