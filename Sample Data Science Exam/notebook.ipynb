{
 "cells": [
  {
   "cell_type": "markdown",
   "id": "0a8ca74a-b235-4034-9c1c-3159336a39d5",
   "metadata": {},
   "source": [
    "# Practical Exam: Supermarket Loyalty\n",
    "\n",
    "International Essentials is an international supermarket chain.\n",
    "\n",
    "Shoppers at their supermarkets can sign up for a loyalty program that provides rewards each year to customers based on their spending. The more you spend the bigger the rewards. \n",
    "\n",
    "The supermarket would like to be able to predict the likely amount customers in the program will spend, so they can estimate the cost of the rewards. \n",
    "\n",
    "This will help them to predict the likely profit at the end of the year.\n",
    "\n",
    "## Data\n",
    "\n",
    "The dataset contains records of customers for their last full year of the loyalty program.\n",
    "\n",
    "| Column Name | Criteria                                                |\n",
    "|-------------|---------------------------------------------------------|\n",
    "|customer_id | Unique identifier for the customer. </br>Missing values are not possible due to the database structure. |\n",
    "|spend | Continuous. </br>The total spend of the customer in their last full year. This can be any positive value to two decimal places. </br>Missing values should be replaced with 0. |\n",
    "|first_month | Continuous. </br>The amount spent by the customer in their first month of the year. This can be any positive value, rounded to two decimal places. </br>Missing values should be replaced with 0. |\n",
    "| items_in_first_month | Discrete. </br>The number of items purchased in the first month. Any integer value greater than or equal to zero. </br>Missing values should be replaced by 0. |  \n",
    "| region | Nominal. </br>The geographic region that the customer is based in. One of four values Americas, Asia/Pacific, Europe, Middle East/Africa. </br>Missing values should be replaced with \"Unknown\". |\n",
    "| loyalty_years | Oridinal. </br>The number of years the customer has been a part of the loyalty program. One of five ordered categories, '0-1', '1-3', '3-5', '5-10', '10+'. </br>Missing values should be replaced with '0-1'.|\n",
    "| joining_month | Nominal. </br>The month the customer joined the loyalty program. One of 12 values \"Jan\", \"Feb\", \"Mar\", \"Apr\", etc. </br>Missing values should be replaced with \"Unknown\".|\n",
    "| promotion | Nominal. </br>Did the customer join the loyalty program as part of a promotion? Either 'Yes' or 'No'. </br>Missing values should be replaced with 'No'.|\n"
   ]
  },
  {
   "cell_type": "markdown",
   "id": "790f8bb8-76fb-44fd-8078-c62909a91b2b",
   "metadata": {},
   "source": [
    "# Task 1\n",
    "\n",
    "Before you fit any models, you will need to make sure the data is clean. \n",
    "\n",
    "The table below shows what the data should look like. \n",
    "\n",
    "Create a cleaned version of the dataframe. \n",
    "\n",
    " - You should start with the data in the file \"loyalty.csv\". \n",
    "\n",
    " - Your output should be a dataframe named `clean_data`. \n",
    "\n",
    " - All column names and values should match the table below.\n",
    "\n",
    "| Column Name | Criteria                                                |\n",
    "|-------------|---------------------------------------------------------|\n",
    "|customer_id | Unique identifier for the customer. </br>Missing values are not possible due to the database structure. |\n",
    "|spend | Continuous. </br>The total spend of the customer in their last full year. This can be any positive value to two decimal places. </br>Missing values should be replaced with 0. |\n",
    "|first_month | Continuous. </br>The amount spent by the customer in their first month of the year. This can be any positive value, rounded to two decimal places. </br>Missing values should be replaced with 0. |\n",
    "| items_in_first_month | Discrete. </br>The number of items purchased in the first month. Any integer value greater than or equal to zero. </br>Missing values should be replaced by 0. |  \n",
    "| region | Nominal. </br>The geographic region that the customer is based in. One of four values Americas, Asia/Pacific, Europe, Middle East/Africa. </br>Missing values should be replaced with \"Unknown\". |\n",
    "| loyalty_years | Oridinal. </br>The number of years the customer has been a part of the loyalty program. One of five ordered categories, '0-1', '1-3', '3-5', '5-10', '10+'. </br>Missing values should be replaced with '0-1'.|\n",
    "| joining_month | Nominal. </br>The month the customer joined the loyalty program. One of 12 values \"Jan\", \"Feb\", \"Mar\", \"Apr\", etc. </br>Missing values should be replaced with \"Unknown\".|\n",
    "| promotion | Nominal. </br>Did the customer join the loyalty program as part of a promotion? Either 'Yes' or 'No'. </br>Missing values should be replaced with 'No'.|"
   ]
  },
  {
   "cell_type": "code",
   "execution_count": 1,
   "id": "523dd03c-8591-4cc6-b750-d71da287745f",
   "metadata": {
    "executionCancelledAt": null,
    "executionTime": 31,
    "lastExecutedAt": 1760789201155,
    "lastExecutedByKernel": "54300d43-c2f8-499d-80dd-76dd8d103fd0",
    "lastScheduledRunId": null,
    "lastSuccessfullyExecutedCode": "# Use this cell to write your code for Task 1\nimport pandas as pd\npd.set_option('display.max_columns', None) \nclean_data = pd.read_csv('loyalty.csv')\nprint(clean_data.head())\nprint(clean_data.info())\nprint(clean_data.isna().sum())\n#examining categorical columns\nprint(clean_data['region'].value_counts())\nprint(clean_data['loyalty_years'].value_counts())\nprint(clean_data['joining_month'].value_counts())\nprint(clean_data['promotion'].value_counts())",
    "outputsMetadata": {
     "0": {
      "height": 616,
      "type": "stream"
     }
    }
   },
   "outputs": [
    {
     "name": "stdout",
     "output_type": "stream",
     "text": [
      "   customer_id   spend first_month  items_in_first_month              region  \\\n",
      "0            1  132.68        15.3                     5        Asia/Pacific   \n",
      "1            2  106.45        16.2                    14        Asia/Pacific   \n",
      "2            3  123.16       25.26                     7  Middle East/Africa   \n",
      "3            4  130.60       24.74                     8  Middle East/Africa   \n",
      "4            5  130.41       25.59                     8  Middle East/Africa   \n",
      "\n",
      "  loyalty_years joining_month promotion  \n",
      "0          5-10           Nov        No  \n",
      "1           0-1           Feb       Yes  \n",
      "2           10+           Dec       Yes  \n",
      "3           3-5           Apr        No  \n",
      "4           3-5           Apr       Yes  \n",
      "<class 'pandas.core.frame.DataFrame'>\n",
      "RangeIndex: 1246 entries, 0 to 1245\n",
      "Data columns (total 8 columns):\n",
      " #   Column                Non-Null Count  Dtype  \n",
      "---  ------                --------------  -----  \n",
      " 0   customer_id           1246 non-null   int64  \n",
      " 1   spend                 1246 non-null   float64\n",
      " 2   first_month           1246 non-null   object \n",
      " 3   items_in_first_month  1246 non-null   int64  \n",
      " 4   region                1246 non-null   object \n",
      " 5   loyalty_years         1246 non-null   object \n",
      " 6   joining_month         1121 non-null   object \n",
      " 7   promotion             1246 non-null   object \n",
      "dtypes: float64(1), int64(2), object(5)\n",
      "memory usage: 78.0+ KB\n",
      "None\n",
      "customer_id               0\n",
      "spend                     0\n",
      "first_month               0\n",
      "items_in_first_month      0\n",
      "region                    0\n",
      "loyalty_years             0\n",
      "joining_month           125\n",
      "promotion                 0\n",
      "dtype: int64\n",
      "region\n",
      "Middle East/Africa    326\n",
      "Europe                320\n",
      "Americas              309\n",
      "Asia/Pacific          291\n",
      "Name: count, dtype: int64\n",
      "loyalty_years\n",
      "0-1     382\n",
      "3-5     256\n",
      "5-10    250\n",
      "1-3     241\n",
      "10+     117\n",
      "Name: count, dtype: int64\n",
      "joining_month\n",
      "Jan    146\n",
      "Jul    111\n",
      "Feb    109\n",
      "Oct    107\n",
      "May     96\n",
      "Apr     93\n",
      "Aug     91\n",
      "Sep     88\n",
      "Mar     85\n",
      "Nov     75\n",
      "Jun     75\n",
      "Dec     45\n",
      "Name: count, dtype: int64\n",
      "promotion\n",
      "No     572\n",
      "Yes    549\n",
      "NO      63\n",
      "YES     62\n",
      "Name: count, dtype: int64\n"
     ]
    }
   ],
   "source": [
    "# Use this cell to write your code for Task 1\n",
    "import pandas as pd\n",
    "pd.set_option('display.max_columns', None) \n",
    "clean_data = pd.read_csv('loyalty.csv')\n",
    "print(clean_data.head())\n",
    "print(clean_data.info())\n",
    "print(clean_data.isna().sum())\n",
    "#examining categorical columns\n",
    "print(clean_data['region'].value_counts())\n",
    "print(clean_data['loyalty_years'].value_counts())\n",
    "print(clean_data['joining_month'].value_counts())\n",
    "print(clean_data['promotion'].value_counts())"
   ]
  },
  {
   "cell_type": "code",
   "execution_count": 2,
   "id": "c8766e92-ea7b-40d1-9fb3-0d690a8b5ede",
   "metadata": {
    "executionCancelledAt": null,
    "executionTime": 58,
    "lastExecutedAt": 1760789201213,
    "lastExecutedByKernel": "54300d43-c2f8-499d-80dd-76dd8d103fd0",
    "lastScheduledRunId": null,
    "lastSuccessfullyExecutedCode": "#first month has the wrong data type\nclean_data['first_month'] = pd.to_numeric(clean_data['first_month'], errors='coerce')\n\n#joining month has missing values. replacing the missing values with unknown\nclean_data['joining_month'] = clean_data['joining_month'].fillna('Unknown')\n\n#first_month has missing values\nclean_data['first_month'] = clean_data['first_month'].fillna(0)\n\n#promotion has capitalized values\nclean_data['promotion'] = clean_data['promotion'].str.lower().str.capitalize()\n\n#final check\nprint(clean_data.head())\nprint(clean_data.info())\nprint(clean_data.isna().sum())",
    "outputsMetadata": {
     "0": {
      "height": 616,
      "type": "stream"
     }
    }
   },
   "outputs": [
    {
     "name": "stdout",
     "output_type": "stream",
     "text": [
      "   customer_id   spend  first_month  items_in_first_month              region  \\\n",
      "0            1  132.68        15.30                     5        Asia/Pacific   \n",
      "1            2  106.45        16.20                    14        Asia/Pacific   \n",
      "2            3  123.16        25.26                     7  Middle East/Africa   \n",
      "3            4  130.60        24.74                     8  Middle East/Africa   \n",
      "4            5  130.41        25.59                     8  Middle East/Africa   \n",
      "\n",
      "  loyalty_years joining_month promotion  \n",
      "0          5-10           Nov        No  \n",
      "1           0-1           Feb       Yes  \n",
      "2           10+           Dec       Yes  \n",
      "3           3-5           Apr        No  \n",
      "4           3-5           Apr       Yes  \n",
      "<class 'pandas.core.frame.DataFrame'>\n",
      "RangeIndex: 1246 entries, 0 to 1245\n",
      "Data columns (total 8 columns):\n",
      " #   Column                Non-Null Count  Dtype  \n",
      "---  ------                --------------  -----  \n",
      " 0   customer_id           1246 non-null   int64  \n",
      " 1   spend                 1246 non-null   float64\n",
      " 2   first_month           1246 non-null   float64\n",
      " 3   items_in_first_month  1246 non-null   int64  \n",
      " 4   region                1246 non-null   object \n",
      " 5   loyalty_years         1246 non-null   object \n",
      " 6   joining_month         1246 non-null   object \n",
      " 7   promotion             1246 non-null   object \n",
      "dtypes: float64(2), int64(2), object(4)\n",
      "memory usage: 78.0+ KB\n",
      "None\n",
      "customer_id             0\n",
      "spend                   0\n",
      "first_month             0\n",
      "items_in_first_month    0\n",
      "region                  0\n",
      "loyalty_years           0\n",
      "joining_month           0\n",
      "promotion               0\n",
      "dtype: int64\n"
     ]
    }
   ],
   "source": [
    "#first month has the wrong data type\n",
    "clean_data['first_month'] = pd.to_numeric(clean_data['first_month'], errors='coerce')\n",
    "\n",
    "#joining month has missing values. replacing the missing values with unknown\n",
    "clean_data['joining_month'] = clean_data['joining_month'].fillna('Unknown')\n",
    "\n",
    "#first_month has missing values\n",
    "clean_data['first_month'] = clean_data['first_month'].fillna(0)\n",
    "\n",
    "#promotion has capitalized values\n",
    "clean_data['promotion'] = clean_data['promotion'].str.lower().str.capitalize()\n",
    "\n",
    "#final check\n",
    "print(clean_data.head())\n",
    "print(clean_data.info())\n",
    "print(clean_data.isna().sum())"
   ]
  },
  {
   "cell_type": "markdown",
   "id": "08b695b7-67db-48fb-8b14-e12bb5a9620e",
   "metadata": {},
   "source": [
    "# Task 2 \n",
    "\n",
    "The team at International Essentials have told you that they have always believed that the number of years in the loyalty scheme is the biggest driver of spend. \n",
    "\n",
    "Producing a table showing the difference in the average spend by number of years in the loyalty programme along with the variance to investigate this question for the team.\n",
    "\n",
    " - You should start with the data in the file 'loyalty.csv'.\n",
    "\n",
    " - Your output should be a data frame named `spend_by_years`. \n",
    "\n",
    " - It should include the three columns `loyalty_years`, `avg_spend`, `var_spend`. \n",
    "\n",
    " - Your answers should be rounded to 2 decimal places.   "
   ]
  },
  {
   "cell_type": "code",
   "execution_count": 3,
   "id": "cc590298-c483-4253-bef1-a352933cbd5e",
   "metadata": {
    "executionCancelledAt": null,
    "executionTime": 54,
    "lastExecutedAt": 1760789201267,
    "lastExecutedByKernel": "54300d43-c2f8-499d-80dd-76dd8d103fd0",
    "lastScheduledRunId": null,
    "lastSuccessfullyExecutedCode": "# Use this cell to write your code for Task 2\n#creating by_years\nby_years = clean_data[['loyalty_years','spend']]\n#grouping by_years df by spend and calculating the average to create the avg_spend column\nspend_by_years = by_years.groupby('loyalty_years')['spend'].agg(['mean','var']).reset_index().rename(columns={'mean':'avg_spend','var':'var_spend'})\n#rounding the avg_spend column to 2 decimal places\nspend_by_years['avg_spend'] = round(spend_by_years['avg_spend'],2)\n#rounding the var_spend column to 2 decimal places\nspend_by_years['var_spend'] = round(spend_by_years['var_spend'],2)\n#eaxmining the changes\nprint(spend_by_years)",
    "outputsMetadata": {
     "0": {
      "height": 143,
      "type": "stream"
     }
    }
   },
   "outputs": [
    {
     "name": "stdout",
     "output_type": "stream",
     "text": [
      "  loyalty_years  avg_spend  var_spend\n",
      "0           0-1     110.56       9.30\n",
      "1           1-3     129.31       9.65\n",
      "2           10+     117.41      16.72\n",
      "3           3-5     124.55      11.09\n",
      "4          5-10     135.15      14.10\n"
     ]
    }
   ],
   "source": [
    "# Use this cell to write your code for Task 2\n",
    "#creating by_years\n",
    "by_years = clean_data[['loyalty_years','spend']]\n",
    "#grouping by_years df by spend and calculating the average to create the avg_spend column\n",
    "spend_by_years = by_years.groupby('loyalty_years')['spend'].agg(['mean','var']).reset_index().rename(columns={'mean':'avg_spend','var':'var_spend'})\n",
    "#rounding the avg_spend column to 2 decimal places\n",
    "spend_by_years['avg_spend'] = round(spend_by_years['avg_spend'],2)\n",
    "#rounding the var_spend column to 2 decimal places\n",
    "spend_by_years['var_spend'] = round(spend_by_years['var_spend'],2)\n",
    "#eaxmining the changes\n",
    "print(spend_by_years)"
   ]
  },
  {
   "cell_type": "markdown",
   "id": "7113acde-8a74-487a-8983-f0c93003d945",
   "metadata": {},
   "source": [
    "# Task 3\n",
    "\n",
    "Fit a baseline model to predict the spend over the year for each customer.\n",
    "\n",
    " 1. Fit your model using the data contained in “train.csv” </br></br>\n",
    "\n",
    " 2. Use “test.csv” to predict new values based on your model. You must return a dataframe named `base_result`, that includes `customer_id` and `spend`. The `spend` column must be your predicted values."
   ]
  },
  {
   "cell_type": "code",
   "execution_count": 4,
   "id": "79a77f11-b09b-4d70-893b-535dfde919b2",
   "metadata": {
    "executionCancelledAt": null,
    "executionTime": 60,
    "lastExecutedAt": 1760789201327,
    "lastExecutedByKernel": "54300d43-c2f8-499d-80dd-76dd8d103fd0",
    "lastScheduledRunId": null,
    "lastSuccessfullyExecutedCode": "# Use this cell to write your code for Task 3\ntrain_data = pd.read_csv('train.csv')\n#Get feature and target variables\nX = train_data.drop('spend', axis=1)\ny = train_data['spend']\n#Convering categorical variables to numerical using one-hot encoding\ncategorical_cols = X.select_dtypes(include=['object'])\n#Applying the one-hot encoding\ncategorical_cols = pd.get_dummies(categorical_cols, drop_first=True)\n#Replacing all boolean columns with 1s and 0s\ncategorical_cols.replace({'Yes': 1, 'No': 0}, inplace=True)\n#selecting the columns with numerical data\nnumerical_cols = X.select_dtypes(include=['int64','float64'])\n#concatenating the numerical and categorical columns to form one dataframe\nX = pd.concat([numerical_cols, categorical_cols], axis=1)\n#instantiating the model \nfrom sklearn.linear_model import LinearRegression\nmodel = LinearRegression()\n#fitting the model to target \nmodel.fit(X,y)\n#preprocessing test data the same as train data\ntest_data = pd.read_csv('test.csv')\nprint(test_data.head())\n# Save the customer_id for the final result\ncustomer_ids = test_data['customer_id']\n#separating categorical and numerical columns\ntest_categorical = test_data.select_dtypes(include=['object'])\ntest_numerical = test_data.select_dtypes(include=['int64','float64'])\n#applying one-hot encoding\ntest_categorical_encoded = pd.get_dummies(test_categorical, drop_first=True)\ntest_categorical_encoded.replace({'Yes':1,'No':0}, inplace=True)\n#concatenating numerical and categorical data\nX_test = pd.concat([test_numerical,test_categorical_encoded], axis=1)\n#aligning columns to ensure columns are the same in test and train data\nX_test = X_test.reindex(columns=X.columns, fill_value=0)\n#making predictions\npredictions = model.predict(X_test)\n#creating the base_result dataframe\nbase_result = pd.DataFrame({\n    'customer_id':customer_ids,\n    'spend':predictions\n})\n#examining the result\nprint(base_result.head())\n",
    "outputsMetadata": {
     "0": {
      "height": 416,
      "type": "stream"
     }
    }
   },
   "outputs": [
    {
     "name": "stdout",
     "output_type": "stream",
     "text": [
      "   customer_id  first_month  items_in_first_month              region  \\\n",
      "0            5        20.43                     8              Europe   \n",
      "1            7        20.90                     7            Americas   \n",
      "2           16        19.99                     7        Asia/Pacific   \n",
      "3           17        23.55                    13  Middle East/Africa   \n",
      "4           19        25.85                    11              Europe   \n",
      "\n",
      "  loyalty_years joining_month promotion  \n",
      "0          5-10           Jul       Yes  \n",
      "1           3-5           Jul        No  \n",
      "2          5-10           Jul       Yes  \n",
      "3           3-5           Aug        No  \n",
      "4           3-5           Apr       Yes  \n",
      "   customer_id       spend\n",
      "0            5  140.711949\n",
      "1            7  148.742502\n",
      "2           16  140.822343\n",
      "3           17  150.659149\n",
      "4           19  153.641091\n"
     ]
    }
   ],
   "source": [
    "# Use this cell to write your code for Task 3\n",
    "train_data = pd.read_csv('train.csv')\n",
    "#Get feature and target variables\n",
    "X = train_data.drop('spend', axis=1)\n",
    "y = train_data['spend']\n",
    "#Convering categorical variables to numerical using one-hot encoding\n",
    "categorical_cols = X.select_dtypes(include=['object'])\n",
    "#Applying the one-hot encoding\n",
    "categorical_cols = pd.get_dummies(categorical_cols, drop_first=True)\n",
    "#Replacing all boolean columns with 1s and 0s\n",
    "categorical_cols.replace({'Yes': 1, 'No': 0}, inplace=True)\n",
    "#selecting the columns with numerical data\n",
    "numerical_cols = X.select_dtypes(include=['int64','float64'])\n",
    "#concatenating the numerical and categorical columns to form one dataframe\n",
    "X = pd.concat([numerical_cols, categorical_cols], axis=1)\n",
    "#instantiating the model \n",
    "from sklearn.linear_model import LinearRegression\n",
    "model = LinearRegression()\n",
    "#fitting the model to target \n",
    "model.fit(X,y)\n",
    "#preprocessing test data the same as train data\n",
    "test_data = pd.read_csv('test.csv')\n",
    "print(test_data.head())\n",
    "# Save the customer_id for the final result\n",
    "customer_ids = test_data['customer_id']\n",
    "#separating categorical and numerical columns\n",
    "test_categorical = test_data.select_dtypes(include=['object'])\n",
    "test_numerical = test_data.select_dtypes(include=['int64','float64'])\n",
    "#applying one-hot encoding\n",
    "test_categorical_encoded = pd.get_dummies(test_categorical, drop_first=True)\n",
    "test_categorical_encoded.replace({'Yes':1,'No':0}, inplace=True)\n",
    "#concatenating numerical and categorical data\n",
    "X_test = pd.concat([test_numerical,test_categorical_encoded], axis=1)\n",
    "#aligning columns to ensure columns are the same in test and train data\n",
    "X_test = X_test.reindex(columns=X.columns, fill_value=0)\n",
    "#making predictions\n",
    "predictions = model.predict(X_test)\n",
    "#creating the base_result dataframe\n",
    "base_result = pd.DataFrame({\n",
    "    'customer_id':customer_ids,\n",
    "    'spend':predictions\n",
    "})\n",
    "#examining the result\n",
    "print(base_result.head())\n"
   ]
  },
  {
   "cell_type": "markdown",
   "id": "44033abf-a603-479e-8663-9a96fefee5a2",
   "metadata": {},
   "source": [
    "# Task 4\n",
    "\n",
    "Fit a comparison model to predict the spend over the year for each customer.\n",
    "\n",
    " 1. Fit your model using the data contained in “train.csv” </br></br>\n",
    "\n",
    " 2. Use “test.csv” to predict new values based on your model. You must return a dataframe named `compare_result`, that includes `customer_id` and `spend`. The `spend` column must be your predicted values."
   ]
  },
  {
   "cell_type": "code",
   "execution_count": null,
   "id": "731cfa01-2709-413a-ac19-611e73e37c75",
   "metadata": {
    "executionCancelledAt": null,
    "executionTime": 124,
    "lastExecutedAt": 1760789201451,
    "lastExecutedByKernel": "54300d43-c2f8-499d-80dd-76dd8d103fd0",
    "lastScheduledRunId": null,
    "lastSuccessfullyExecutedCode": "# Use this cell to write your code for Task 4\n# Use this cell to write your code for Task 3\ntrain_data = pd.read_csv('train.csv')\n#Get feature and target variables\nX = train_data.drop('spend', axis=1)\ny = train_data['spend']\n#Convering categorical variables to numerical using one-hot encoding\ncategorical_cols = X.select_dtypes(include=['object'])\n#Applying the one-hot encoding\ncategorical_cols = pd.get_dummies(categorical_cols, drop_first=True)\n#Replacing all boolean columns with 1s and 0s\ncategorical_cols.replace({'Yes': 1, 'No': 0}, inplace=True)\n#selecting the columns with numerical data\nnumerical_cols = X.select_dtypes(include=['int64','float64'])\n#concatenating the numerical and categorical columns to form one dataframe\nX = pd.concat([numerical_cols, categorical_cols], axis=1)\n#instantiating the model \nfrom sklearn.tree import DecisionTreeRegressor\nmodel = DecisionTreeRegressor()\n#fitting the model to target \nmodel.fit(X,y)\n#preprocessing test data the same as train data\ntest_data = pd.read_csv('test.csv')\n# Save the customer_id for the final result\ncustomer_ids = test_data['customer_id']\n#separating categorical and numerical columns\ntest_categorical = test_data.select_dtypes(include=['object'])\ntest_numerical = test_data.select_dtypes(include=['int64','float64'])\n#applying one-hot encoding\ntest_categorical_encoded = pd.get_dummies(test_categorical, drop_first=True)\ntest_categorical_encoded.replace({'Yes':1,'No':0}, inplace=True)\n#concatenating numerical and categorical data\nX_test = pd.concat([test_numerical,test_categorical_encoded], axis=1)\n#aligning columns to ensure columns are the same in test and train data\nX_test = X_test.reindex(columns=X.columns, fill_value=0)\n#making predictions\npredictions = model.predict(X_test)\n#creating the base_result dataframe\ncompare_result = pd.DataFrame({\n    'customer_id':customer_ids,\n    'spend':predictions\n})\n#examining the result\nprint(compare_result.head())",
    "outputsMetadata": {
     "0": {
      "height": 143,
      "type": "stream"
     }
    }
   },
   "outputs": [
    {
     "name": "stdout",
     "output_type": "stream",
     "text": [
      "   customer_id   spend\n",
      "0            5  140.59\n",
      "1            7  148.41\n",
      "2           16  141.02\n",
      "3           17  151.16\n",
      "4           19  153.68\n"
     ]
    }
   ],
   "source": [
    "# Use this cell to write your code for Task 4\n",
    "train_data = pd.read_csv('train.csv')\n",
    "#Get feature and target variables\n",
    "X = train_data.drop('spend', axis=1)\n",
    "y = train_data['spend']\n",
    "#Convering categorical variables to numerical using one-hot encoding\n",
    "categorical_cols = X.select_dtypes(include=['object'])\n",
    "#Applying the one-hot encoding\n",
    "categorical_cols = pd.get_dummies(categorical_cols, drop_first=True)\n",
    "#Replacing all boolean columns with 1s and 0s\n",
    "categorical_cols.replace({'Yes': 1, 'No': 0}, inplace=True)\n",
    "#selecting the columns with numerical data\n",
    "numerical_cols = X.select_dtypes(include=['int64','float64'])\n",
    "#concatenating the numerical and categorical columns to form one dataframe\n",
    "X = pd.concat([numerical_cols, categorical_cols], axis=1)\n",
    "#instantiating the model \n",
    "from sklearn.tree import DecisionTreeRegressor\n",
    "model = DecisionTreeRegressor()\n",
    "#fitting the model to target \n",
    "model.fit(X,y)\n",
    "#preprocessing test data the same as train data\n",
    "test_data = pd.read_csv('test.csv')\n",
    "# Save the customer_id for the final result\n",
    "customer_ids = test_data['customer_id']\n",
    "#separating categorical and numerical columns\n",
    "test_categorical = test_data.select_dtypes(include=['object'])\n",
    "test_numerical = test_data.select_dtypes(include=['int64','float64'])\n",
    "#applying one-hot encoding\n",
    "test_categorical_encoded = pd.get_dummies(test_categorical, drop_first=True)\n",
    "test_categorical_encoded.replace({'Yes':1,'No':0}, inplace=True)\n",
    "#concatenating numerical and categorical data\n",
    "X_test = pd.concat([test_numerical,test_categorical_encoded], axis=1)\n",
    "#aligning columns to ensure columns are the same in test and train data\n",
    "X_test = X_test.reindex(columns=X.columns, fill_value=0)\n",
    "#making predictions\n",
    "predictions = model.predict(X_test)\n",
    "#creating the base_result dataframe\n",
    "compare_result = pd.DataFrame({\n",
    "    'customer_id':customer_ids,\n",
    "    'spend':predictions\n",
    "})\n",
    "#examining the result\n",
    "print(compare_result.head())"
   ]
  }
 ],
 "metadata": {
  "colab": {
   "name": "Welcome to DataCamp Workspaces.ipynb",
   "provenance": []
  },
  "kernelspec": {
   "display_name": "Python 3",
   "language": "python",
   "name": "python3"
  },
  "language_info": {
   "codemirror_mode": {
    "name": "ipython",
    "version": 3
   },
   "file_extension": ".py",
   "mimetype": "text/x-python",
   "name": "python",
   "nbconvert_exporter": "python",
   "pygments_lexer": "ipython3",
   "version": "3.13.2"
  }
 },
 "nbformat": 4,
 "nbformat_minor": 5
}
