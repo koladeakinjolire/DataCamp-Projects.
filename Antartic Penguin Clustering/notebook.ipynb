{
 "cells": [
  {
   "cell_type": "markdown",
   "id": "589fe37e-e764-4d71-9c3c-93c8b7acee79",
   "metadata": {},
   "source": [
    "![Alt text](https://imgur.com/orZWHly.png=80)\n",
    "source: @allison_horst https://github.com/allisonhorst/penguins"
   ]
  },
  {
   "cell_type": "markdown",
   "id": "d3fb84f2-0eda-4b73-95c0-5364f83e25bf",
   "metadata": {},
   "source": [
    "You have been asked to support a team of researchers who have been collecting data about penguins in Antartica! The data is available in csv-Format as `penguins.csv`\n",
    "\n",
    "**Origin of this data** : Data were collected and made available by Dr. Kristen Gorman and the Palmer Station, Antarctica LTER, a member of the Long Term Ecological Research Network.\n",
    "\n",
    "**The dataset consists of 5 columns.**\n",
    "\n",
    "Column | Description\n",
    "--- | ---\n",
    "culmen_length_mm | culmen length (mm)\n",
    "culmen_depth_mm | culmen depth (mm)\n",
    "flipper_length_mm | flipper length (mm)\n",
    "body_mass_g | body mass (g)\n",
    "sex | penguin sex\n",
    "\n",
    "Unfortunately, they have not been able to record the species of penguin, but they know that there are **at least three** species that are native to the region: **Adelie**, **Chinstrap**, and **Gentoo**.  Your task is to apply your data science skills to help them identify groups in the dataset!"
   ]
  },
  {
   "cell_type": "code",
   "execution_count": 5,
   "id": "57295d13-5753-4f8d-aa96-cd6815f7cbd9",
   "metadata": {
    "executionCancelledAt": null,
    "executionTime": 27,
    "lastExecutedAt": 1751346446732,
    "lastExecutedByKernel": "84e4a125-e408-435c-8454-7279730d88f5",
    "lastScheduledRunId": null,
    "lastSuccessfullyExecutedCode": "# Import Required Packages\nimport pandas as pd\nimport matplotlib.pyplot as plt\nfrom sklearn.cluster import KMeans\nfrom sklearn.preprocessing import StandardScaler\nfrom sklearn.pipeline import make_pipeline\n\n# Loading and examining the dataset\npenguins_df = pd.read_csv(\"penguins.csv\")\npenguins_df.head()",
    "outputsMetadata": {
     "0": {
      "height": 249,
      "tableState": {},
      "type": "dataFrame"
     }
    }
   },
   "outputs": [
    {
     "data": {
      "text/html": [
       "<div>\n",
       "<style scoped>\n",
       "    .dataframe tbody tr th:only-of-type {\n",
       "        vertical-align: middle;\n",
       "    }\n",
       "\n",
       "    .dataframe tbody tr th {\n",
       "        vertical-align: top;\n",
       "    }\n",
       "\n",
       "    .dataframe thead th {\n",
       "        text-align: right;\n",
       "    }\n",
       "</style>\n",
       "<table border=\"1\" class=\"dataframe\">\n",
       "  <thead>\n",
       "    <tr style=\"text-align: right;\">\n",
       "      <th></th>\n",
       "      <th>culmen_length_mm</th>\n",
       "      <th>culmen_depth_mm</th>\n",
       "      <th>flipper_length_mm</th>\n",
       "      <th>body_mass_g</th>\n",
       "      <th>sex</th>\n",
       "    </tr>\n",
       "  </thead>\n",
       "  <tbody>\n",
       "    <tr>\n",
       "      <th>0</th>\n",
       "      <td>39.1</td>\n",
       "      <td>18.7</td>\n",
       "      <td>181.0</td>\n",
       "      <td>3750.0</td>\n",
       "      <td>MALE</td>\n",
       "    </tr>\n",
       "    <tr>\n",
       "      <th>1</th>\n",
       "      <td>39.5</td>\n",
       "      <td>17.4</td>\n",
       "      <td>186.0</td>\n",
       "      <td>3800.0</td>\n",
       "      <td>FEMALE</td>\n",
       "    </tr>\n",
       "    <tr>\n",
       "      <th>2</th>\n",
       "      <td>40.3</td>\n",
       "      <td>18.0</td>\n",
       "      <td>195.0</td>\n",
       "      <td>3250.0</td>\n",
       "      <td>FEMALE</td>\n",
       "    </tr>\n",
       "    <tr>\n",
       "      <th>3</th>\n",
       "      <td>36.7</td>\n",
       "      <td>19.3</td>\n",
       "      <td>193.0</td>\n",
       "      <td>3450.0</td>\n",
       "      <td>FEMALE</td>\n",
       "    </tr>\n",
       "    <tr>\n",
       "      <th>4</th>\n",
       "      <td>39.3</td>\n",
       "      <td>20.6</td>\n",
       "      <td>190.0</td>\n",
       "      <td>3650.0</td>\n",
       "      <td>MALE</td>\n",
       "    </tr>\n",
       "  </tbody>\n",
       "</table>\n",
       "</div>"
      ],
      "text/plain": [
       "   culmen_length_mm  culmen_depth_mm  flipper_length_mm  body_mass_g     sex\n",
       "0              39.1             18.7              181.0       3750.0    MALE\n",
       "1              39.5             17.4              186.0       3800.0  FEMALE\n",
       "2              40.3             18.0              195.0       3250.0  FEMALE\n",
       "3              36.7             19.3              193.0       3450.0  FEMALE\n",
       "4              39.3             20.6              190.0       3650.0    MALE"
      ]
     },
     "execution_count": 5,
     "metadata": {},
     "output_type": "execute_result"
    }
   ],
   "source": [
    "# Import Required Packages\n",
    "import pandas as pd\n",
    "import matplotlib.pyplot as plt\n",
    "from sklearn.cluster import KMeans\n",
    "from sklearn.preprocessing import StandardScaler\n",
    "from sklearn.pipeline import make_pipeline\n",
    "\n",
    "# Loading and examining the dataset\n",
    "penguins_df = pd.read_csv(\"penguins.csv\")\n",
    "penguins_df.head()"
   ]
  },
  {
   "cell_type": "code",
   "execution_count": 6,
   "id": "26613d35-a414-4225-b5f4-eea2c1913ad4",
   "metadata": {
    "executionCancelledAt": null,
    "executionTime": 59,
    "lastExecutedAt": 1751346446791,
    "lastExecutedByKernel": "84e4a125-e408-435c-8454-7279730d88f5",
    "lastScheduledRunId": null,
    "lastSuccessfullyExecutedCode": "#Exploring the dataframe\nprint(penguins_df.info())\n\n#Looking for null values\nprint(penguins_df.isna().sum())",
    "outputsMetadata": {
     "0": {
      "height": 416,
      "type": "stream"
     }
    }
   },
   "outputs": [
    {
     "name": "stdout",
     "output_type": "stream",
     "text": [
      "<class 'pandas.core.frame.DataFrame'>\n",
      "RangeIndex: 332 entries, 0 to 331\n",
      "Data columns (total 5 columns):\n",
      " #   Column             Non-Null Count  Dtype  \n",
      "---  ------             --------------  -----  \n",
      " 0   culmen_length_mm   332 non-null    float64\n",
      " 1   culmen_depth_mm    332 non-null    float64\n",
      " 2   flipper_length_mm  332 non-null    float64\n",
      " 3   body_mass_g        332 non-null    float64\n",
      " 4   sex                332 non-null    object \n",
      "dtypes: float64(4), object(1)\n",
      "memory usage: 13.1+ KB\n",
      "None\n",
      "culmen_length_mm     0\n",
      "culmen_depth_mm      0\n",
      "flipper_length_mm    0\n",
      "body_mass_g          0\n",
      "sex                  0\n",
      "dtype: int64\n"
     ]
    }
   ],
   "source": [
    "#Exploring the dataframe\n",
    "print(penguins_df.info())\n",
    "\n",
    "#Looking for null values\n",
    "print(penguins_df.isna().sum())"
   ]
  },
  {
   "cell_type": "code",
   "execution_count": 7,
   "id": "f9231a3e-1030-4b79-a47e-e743a44355af",
   "metadata": {
    "executionCancelledAt": null,
    "executionTime": 52,
    "lastExecutedAt": 1751346446843,
    "lastExecutedByKernel": "84e4a125-e408-435c-8454-7279730d88f5",
    "lastScheduledRunId": null,
    "lastSuccessfullyExecutedCode": "#Creating mappings for the sex column\nmappings = {'MALE':1,'FEMALE':0}\n\n#Applying the mapping on the sex column\npenguins_df['sex'] = penguins_df['sex'].map(mappings)\n\n#Examining the result \nprint(penguins_df['sex'].value_counts())\n",
    "outputsMetadata": {
     "0": {
      "height": 80,
      "type": "stream"
     }
    }
   },
   "outputs": [
    {
     "name": "stdout",
     "output_type": "stream",
     "text": [
      "sex\n",
      "1    167\n",
      "0    165\n",
      "Name: count, dtype: int64\n"
     ]
    }
   ],
   "source": [
    "#Creating mappings for the sex column\n",
    "mappings = {'MALE':1,'FEMALE':0}\n",
    "\n",
    "#Applying the mapping on the sex column\n",
    "penguins_df['sex'] = penguins_df['sex'].map(mappings)\n",
    "\n",
    "#Examining the result \n",
    "print(penguins_df['sex'].value_counts())\n"
   ]
  },
  {
   "cell_type": "code",
   "execution_count": 10,
   "id": "489c1b63-d780-40a8-9956-12dffa73d71a",
   "metadata": {
    "executionCancelledAt": null,
    "executionTime": 275,
    "lastExecutedAt": 1751346447118,
    "lastExecutedByKernel": "84e4a125-e408-435c-8454-7279730d88f5",
    "lastScheduledRunId": null,
    "lastSuccessfullyExecutedCode": "#Lets see what amount of features we should use for our KMeans Model\ninertias = []\n\nfor i in range(1,6):\n    model = KMeans(n_clusters=i)\n    model.fit(penguins_df)\n    inertias.append(kmeans.inertia_)\n\nplt.plot(range(1,6), inertias, marker='o')\nplt.title('Elbow method')\nplt.xlabel('Number of clusters')\nplt.ylabel('Inertia')\nplt.show()"
   },
   "outputs": [
    {
     "data": {
      "image/png": "[encoded data removed]",
      "text/plain": [
       "<Figure size 640x480 with 1 Axes>"
      ]
     },
     "metadata": {},
     "output_type": "display_data"
    }
   ],
   "source": [
    "#Lets see what amount of features we should use for our KMeans Model\n",
    "inertias = []\n",
    "\n",
    "for i in range(1,6):\n",
    "    model = KMeans(n_clusters=i)\n",
    "    model.fit(penguins_df)\n",
    "    inertias.append(model.inertia_)\n",
    "\n",
    "plt.plot(range(1,6), inertias, marker='o')\n",
    "plt.title('Elbow method')\n",
    "plt.xlabel('Number of clusters')\n",
    "plt.ylabel('Inertia')\n",
    "plt.show()"
   ]
  },
  {
   "cell_type": "code",
   "execution_count": null,
   "id": "5bca446d-c820-4159-9fc9-d674bd83d81c",
   "metadata": {
    "executionCancelledAt": null,
    "executionTime": 53,
    "lastExecutedAt": 1751346447171,
    "lastExecutedByKernel": "84e4a125-e408-435c-8454-7279730d88f5",
    "lastScheduledRunId": null,
    "lastSuccessfullyExecutedCode": "#3 components is the perfect amount of clusters. The rate at which the inertia reduces declines slowly after 3 clusters.\n\n#CREATING A PIPELINE TO SCALE AND THEN FIT A KMEANS MODEL WITH 3 COMPONENTS\nsteps = make_pipeline(StandardScaler(), KMeans(n_clusters=3))\n\n#Applying the pipeline on the data\nsteps.fit(penguins_df)\n\n#Predicting the cluster labels\ncluster_labels = steps.predict(penguins_df)\n\n#Assigning the labels to the dataframe\npenguins_df['clusters'] = cluster_labels\n\n#Creating the result dataframe\nstat_penguins = penguins_df.groupby('clusters')[\n    ['culmen_length_mm', 'culmen_depth_mm', 'flipper_length_mm', 'body_mass_g']\n].mean()\n\nprint(stat_penguins)"
   },
   "outputs": [
    {
     "name": "stdout",
     "output_type": "stream",
     "text": [
      "          culmen_length_mm  culmen_depth_mm  flipper_length_mm  body_mass_g\n",
      "clusters                                                                   \n",
      "0                40.217757        17.611215         189.046729  3419.158879\n",
      "1                43.878302        19.111321         194.764151  4006.603774\n",
      "2                47.568067        14.996639         217.235294  5092.436975\n"
     ]
    }
   ],
   "source": [
    "#3 components is the perfect amount of clusters. The rate at which the inertia reduces declines slowly after 3 clusters.\n",
    "\n",
    "#CREATING A PIPELINE TO SCALE AND THEN FIT A KMEANS MODEL WITH 3 COMPONENTS\n",
    "steps = make_pipeline(StandardScaler(), KMeans(n_clusters=3))\n",
    "\n",
    "#Applying the pipeline on the data\n",
    "steps.fit(penguins_df)\n",
    "\n",
    "#Predicting the cluster labels\n",
    "cluster_labels = steps.predict(penguins_df)\n",
    "\n",
    "#Assigning the labels to the dataframe\n",
    "penguins_df['clusters'] = cluster_labels\n",
    "\n",
    "#Creating the result dataframe\n",
    "stat_penguins = penguins_df.groupby('clusters')[\n",
    "    ['culmen_length_mm', 'culmen_depth_mm', 'flipper_length_mm', 'body_mass_g']\n",
    "].mean()\n",
    "\n",
    "print(stat_penguins)"
   ]
  }
 ],
 "metadata": {
  "colab": {
   "name": "Welcome to DataCamp Workspaces.ipynb",
   "provenance": []
  },
  "editor": "DataLab",
  "kernelspec": {
   "display_name": "Python 3",
   "language": "python",
   "name": "python3"
  },
  "language_info": {
   "codemirror_mode": {
    "name": "ipython",
    "version": 3
   },
   "file_extension": ".py",
   "mimetype": "text/x-python",
   "name": "python",
   "nbconvert_exporter": "python",
   "pygments_lexer": "ipython3",
   "version": "3.13.2"
  }
 },
 "nbformat": 4,
 "nbformat_minor": 5
}
