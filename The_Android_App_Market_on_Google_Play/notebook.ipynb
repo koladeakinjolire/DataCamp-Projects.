{
 "cells": [
  {
   "cell_type": "markdown",
   "source": "## 1. Introduction\n<p><img src=\"https://assets.datacamp.com/production/project_1197/img/google_play_store.png\" alt=\"Google Play logo\"></p>\n<p>Mobile apps are everywhere. They are easy to create and can be very lucrative from the business standpoint. Specifically, Android is expanding as an operating system and has captured more than 74% of the total market<sup><a href=\"https://www.statista.com/statistics/272698/global-market-share-held-by-mobile-operating-systems-since-2009\">[1]</a></sup>. </p>\n<p>The Google Play Store apps data has enormous potential to facilitate data-driven decisions and insights for businesses. In this notebook, we will analyze the Android app market by comparing ~10k apps in Google Play across different categories. We will also use the user reviews to draw a qualitative comparision between the apps.</p>\n<p>The dataset you will use here was scraped from Google Play Store in September 2018 and was published on <a href=\"https://www.kaggle.com/lava18/google-play-store-apps\">Kaggle</a>. Here are the details: <br>\n<br></p>\n<div style=\"background-color: #efebe4; color: #05192d; text-align:left; vertical-align: middle; padding: 15px 25px 15px 25px; line-height: 1.6;\">\n    <div style=\"font-size:20px\"><b>datasets/apps.csv</b></div>\nThis file contains all the details of the apps on Google Play. There are 9 features that describe a given app.\n<ul>\n    <li><b>App:</b> Name of the app</li>\n    <li><b>Category:</b> Category of the app. Some examples are: ART_AND_DESIGN, FINANCE, COMICS, BEAUTY etc.</li>\n    <li><b>Rating:</b> The current average rating (out of 5) of the app on Google Play</li>\n    <li><b>Reviews:</b> Number of user reviews given on the app</li>\n    <li><b>Size:</b> Size of the app in MB (megabytes)</li>\n    <li><b>Installs:</b> Number of times the app was downloaded from Google Play</li>\n    <li><b>Type:</b> Whether the app is paid or free</li>\n    <li><b>Price:</b> Price of the app in US$</li>\n    <li><b>Last Updated:</b> Date on which the app was last updated on Google Play </li>\n\n</ul>\n</div>\n<div style=\"background-color: #efebe4; color: #05192d; text-align:left; vertical-align: middle; padding: 15px 25px 15px 25px; line-height: 1.6;\">\n    <div style=\"font-size:20px\"><b>datasets/user_reviews.csv</b></div>\nThis file contains a random sample of 100 <i>[most helpful first](https://www.androidpolice.com/2019/01/21/google-play-stores-redesigned-ratings-and-reviews-section-lets-you-easily-filter-by-star-rating/)</i> user reviews for each app. The text in each review has been pre-processed and passed through a sentiment analyzer.\n<ul>\n    <li><b>App:</b> Name of the app on which the user review was provided. Matches the `App` column of the `apps.csv` file</li>\n    <li><b>Review:</b> The pre-processed user review text</li>\n    <li><b>Sentiment Category:</b> Sentiment category of the user review - Positive, Negative or Neutral</li>\n    <li><b>Sentiment Score:</b> Sentiment score of the user review. It lies between [-1,1]. A higher score denotes a more positive sentiment.</li>\n\n</ul>\n</div>\n<p>From here on, it will be your task to explore and manipulate the data until you are able to answer the three questions described in the instructions panel.<br></p>",
   "metadata": {
    "dc": {
     "key": "4"
    },
    "run_control": {
     "frozen": true
    },
    "tags": [
     "context"
    ]
   }
  },
  {
   "cell_type": "code",
   "source": "import pandas as pd\nimport numpy as np\napps = pd.read_csv('datasets/apps.csv')\nuser_reviews = pd.read_csv('datasets/user_reviews.csv')\nprint(apps.head(), apps.info())\ncharstoremove = [',', '+']\n\nfor char in charstoremove:\n    apps['Installs'] = apps['Installs'].apply(lambda x: x.replace(char, ''))\n    \napps['Installs'] = apps['Installs'].astype(int)\n\napp_category_info = apps.groupby('Category').agg({'App': 'count', 'Rating': 'mean', 'Price': 'mean'})\n\napp_category_info.rename(columns = {'App': 'Number of apps', 'Price': 'Average price', 'Rating':'Average rating'}, inplace=True)\n\nffa = apps[(apps['Category']=='FINANCE') & (apps['Price'] == 0.0)]\n\nfa = apps[apps['Category']=='FINANCE']\n\nmerged_df = pd.merge(fa,user_reviews,on='App',how ='inner')\n\napp_sentiment_score = merged_df.groupby('App').agg({'Sentiment Score' :'mean'})\n\nuser_feedback = app_sentiment_score.sort_values(by = 'Sentiment Score', ascending = False)\n\ntop_10_user_feedback = user_feedback[:10]\ntop_10_user_feedback\n\n\n\n",
   "execution_count": 75,
   "outputs": [
    {
     "output_type": "stream",
     "text": "<class 'pandas.core.frame.DataFrame'>\nRangeIndex: 9659 entries, 0 to 9658\nData columns (total 9 columns):\nApp             9659 non-null object\nCategory        9659 non-null object\nRating          8196 non-null float64\nReviews         9659 non-null int64\nSize            8432 non-null float64\nInstalls        9659 non-null object\nType            9659 non-null object\nPrice           9659 non-null float64\nLast Updated    9659 non-null object\ndtypes: float64(3), int64(1), object(5)\nmemory usage: 679.2+ KB\n                                                 App        Category  Rating  \\\n0     Photo Editor & Candy Camera & Grid & ScrapBook  ART_AND_DESIGN     4.1   \n1                                Coloring book moana  ART_AND_DESIGN     3.9   \n2  U Launcher Lite \u2013 FREE Live Cool Themes, Hide ...  ART_AND_DESIGN     4.7   \n3                              Sketch - Draw & Paint  ART_AND_DESIGN     4.5   \n4              Pixel Draw - Number Art Coloring Book  ART_AND_DESIGN     4.3   \n\n   Reviews  Size     Installs  Type  Price      Last Updated  \n0      159  19.0      10,000+  Free    0.0   January 7, 2018  \n1      967  14.0     500,000+  Free    0.0  January 15, 2018  \n2    87510   8.7   5,000,000+  Free    0.0    August 1, 2018  \n3   215644  25.0  50,000,000+  Free    0.0      June 8, 2018  \n4      967   2.8     100,000+  Free    0.0     June 20, 2018   None\n",
     "name": "stdout"
    },
    {
     "output_type": "execute_result",
     "execution_count": 75,
     "data": {
      "text/plain": "                                            Sentiment Score\nApp                                                        \nBBVA Spain                                         0.515086\nAssociated Credit Union Mobile                     0.388093\nBankMobile Vibe App                                0.353455\nA+ Mobile                                          0.329592\nCurrent debit card and app made for teens          0.327258\nBZWBK24 mobile                                     0.326883\nEven - organize your money, get paid early         0.283929\nCredit Karma                                       0.270052\nFortune City - A Finance App                       0.266966\nBranch                                             0.264230",
      "text/html": "<div>\n<style scoped>\n    .dataframe tbody tr th:only-of-type {\n        vertical-align: middle;\n    }\n\n    .dataframe tbody tr th {\n        vertical-align: top;\n    }\n\n    .dataframe thead th {\n        text-align: right;\n    }\n</style>\n<table border=\"1\" class=\"dataframe\">\n  <thead>\n    <tr style=\"text-align: right;\">\n      <th></th>\n      <th>Sentiment Score</th>\n    </tr>\n    <tr>\n      <th>App</th>\n      <th></th>\n    </tr>\n  </thead>\n  <tbody>\n    <tr>\n      <th>BBVA Spain</th>\n      <td>0.515086</td>\n    </tr>\n    <tr>\n      <th>Associated Credit Union Mobile</th>\n      <td>0.388093</td>\n    </tr>\n    <tr>\n      <th>BankMobile Vibe App</th>\n      <td>0.353455</td>\n    </tr>\n    <tr>\n      <th>A+ Mobile</th>\n      <td>0.329592</td>\n    </tr>\n    <tr>\n      <th>Current debit card and app made for teens</th>\n      <td>0.327258</td>\n    </tr>\n    <tr>\n      <th>BZWBK24 mobile</th>\n      <td>0.326883</td>\n    </tr>\n    <tr>\n      <th>Even - organize your money, get paid early</th>\n      <td>0.283929</td>\n    </tr>\n    <tr>\n      <th>Credit Karma</th>\n      <td>0.270052</td>\n    </tr>\n    <tr>\n      <th>Fortune City - A Finance App</th>\n      <td>0.266966</td>\n    </tr>\n    <tr>\n      <th>Branch</th>\n      <td>0.264230</td>\n    </tr>\n  </tbody>\n</table>\n</div>"
     },
     "metadata": {}
    }
   ],
   "metadata": {
    "dc": {
     "key": "4"
    },
    "trusted": true
   }
  },
  {
   "cell_type": "code",
   "source": "",
   "execution_count": null,
   "outputs": [],
   "metadata": {
    "dc": {
     "key": "4"
    },
    "collapsed": true,
    "trusted": true
   }
  }
 ],
 "metadata": {
  "kernelspec": {
   "name": "python3",
   "display_name": "Python 3",
   "language": "python"
  },
  "language_info": {
   "name": "python",
   "version": "3.6.7",
   "mimetype": "text/x-python",
   "codemirror_mode": {
    "name": "ipython",
    "version": 3
   },
   "pygments_lexer": "ipython3",
   "nbconvert_exporter": "python",
   "file_extension": ".py"
  }
 },
 "nbformat": 4,
 "nbformat_minor": 5
}